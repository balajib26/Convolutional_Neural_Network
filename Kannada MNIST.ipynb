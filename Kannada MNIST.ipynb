{
 "cells": [
  {
   "cell_type": "markdown",
   "metadata": {},
   "source": [
    "The model is built on Kannada MNIST dataset. It contains numbers in Kannada Language. The Image below shows the numbers.      https://www.kaggle.com/c/Kannada-MNIST"
   ]
  },
  {
   "cell_type": "markdown",
   "metadata": {},
   "source": [
    "<img src=\"images/5.png\">"
   ]
  },
  {
   "cell_type": "code",
   "execution_count": 1,
   "metadata": {
    "_cell_guid": "79c7e3d0-c299-4dcb-8224-4455121ee9b0",
    "_uuid": "d629ff2d2480ee46fbb7e2d37f6b5fab8052498a"
   },
   "outputs": [
    {
     "name": "stderr",
     "output_type": "stream",
     "text": [
      "Using TensorFlow backend.\n"
     ]
    }
   ],
   "source": [
    "# Import libraries\n",
    "import numpy as np \n",
    "import pandas as pd \n",
    "from sklearn.model_selection import train_test_split\n",
    "from sklearn import metrics\n",
    "import matplotlib.pyplot as plt \n",
    "import keras\n",
    "from keras.layers import ReLU\n",
    "from keras.layers.normalization import BatchNormalization\n",
    "import tensorflow as tf\n",
    "from tensorflow.keras.optimizers import RMSprop\n",
    "from tensorflow.keras.preprocessing.image import ImageDataGenerator\n",
    "from tensorflow.keras.callbacks import LearningRateScheduler, EarlyStopping"
   ]
  },
  {
   "cell_type": "markdown",
   "metadata": {},
   "source": [
    "Reading the training and test dataset"
   ]
  },
  {
   "cell_type": "code",
   "execution_count": 2,
   "metadata": {},
   "outputs": [],
   "source": [
    "# Training data\n",
    "train = pd.read_csv('/kaggle/input/Kannada-MNIST/train.csv')\n",
    "# Test data\n",
    "test = pd.read_csv(\"/kaggle/input/Kannada-MNIST/test.csv\")\n",
    "# Dig is Additional Data\n",
    "dig = pd.read_csv(\"/kaggle/input/Kannada-MNIST/Dig-MNIST.csv\")"
   ]
  },
  {
   "cell_type": "code",
   "execution_count": 3,
   "metadata": {},
   "outputs": [
    {
     "name": "stdout",
     "output_type": "stream",
     "text": [
      "Number of training samples are(60000, 785)\n",
      "Number of Dig samples are(10240, 785)\n",
      "Number of test samples are(5000, 785)\n"
     ]
    }
   ],
   "source": [
    "# Training data has 60,000 samples\n",
    "print(\"Number of training samples are\" +str(train.shape))\n",
    "# Dig data has 10240 samples\n",
    "print(\"Number of Dig samples are\" +str(dig.shape))\n",
    "# Test data has 5,000 samples\n",
    "print(\"Number of test samples are\" +str(test.shape))"
   ]
  },
  {
   "cell_type": "code",
   "execution_count": 4,
   "metadata": {},
   "outputs": [
    {
     "data": {
      "text/plain": [
       "(10240, 785)"
      ]
     },
     "execution_count": 4,
     "metadata": {},
     "output_type": "execute_result"
    }
   ],
   "source": [
    "dig.shape"
   ]
  },
  {
   "cell_type": "code",
   "execution_count": 5,
   "metadata": {},
   "outputs": [
    {
     "name": "stdout",
     "output_type": "stream",
     "text": [
      "(10240, 784)\n"
     ]
    },
    {
     "data": {
      "text/plain": [
       "(10240, 28, 28, 1)"
      ]
     },
     "execution_count": 5,
     "metadata": {},
     "output_type": "execute_result"
    }
   ],
   "source": [
    "# Labels in dig is removed to use this data points to test the accuracy of the model\n",
    "dig_x=dig.drop('label',axis=1).iloc[:,:].values\n",
    "print(dig_x.shape)\n",
    "dig_x = dig_x.reshape(10240, 28, 28,1)\n",
    "dig_x.shape"
   ]
  },
  {
   "cell_type": "code",
   "execution_count": 6,
   "metadata": {},
   "outputs": [
    {
     "data": {
      "text/plain": [
       "(10240,)"
      ]
     },
     "execution_count": 6,
     "metadata": {},
     "output_type": "execute_result"
    }
   ],
   "source": [
    "# Lab of dig can be used to compare the true label with predicted label\n",
    "dig_y=dig.label\n",
    "dig_y.shape"
   ]
  },
  {
   "cell_type": "code",
   "execution_count": 7,
   "metadata": {},
   "outputs": [],
   "source": [
    "# id column is not required in test, so it is removed\n",
    "test_x=test.drop('id', axis=1).iloc[:,:].values"
   ]
  },
  {
   "cell_type": "code",
   "execution_count": 8,
   "metadata": {},
   "outputs": [
    {
     "data": {
      "text/plain": [
       "(5000, 785)"
      ]
     },
     "execution_count": 8,
     "metadata": {},
     "output_type": "execute_result"
    }
   ],
   "source": [
    "test.shape"
   ]
  },
  {
   "cell_type": "code",
   "execution_count": 9,
   "metadata": {},
   "outputs": [
    {
     "data": {
      "text/plain": [
       "(5000, 28, 28, 1)"
      ]
     },
     "execution_count": 9,
     "metadata": {},
     "output_type": "execute_result"
    }
   ],
   "source": [
    "test_x = test_x.reshape(5000, 28, 28,1)\n",
    "test_x.shape"
   ]
  },
  {
   "cell_type": "code",
   "execution_count": 10,
   "metadata": {},
   "outputs": [
    {
     "data": {
      "text/html": [
       "<div>\n",
       "<style scoped>\n",
       "    .dataframe tbody tr th:only-of-type {\n",
       "        vertical-align: middle;\n",
       "    }\n",
       "\n",
       "    .dataframe tbody tr th {\n",
       "        vertical-align: top;\n",
       "    }\n",
       "\n",
       "    .dataframe thead th {\n",
       "        text-align: right;\n",
       "    }\n",
       "</style>\n",
       "<table border=\"1\" class=\"dataframe\">\n",
       "  <thead>\n",
       "    <tr style=\"text-align: right;\">\n",
       "      <th></th>\n",
       "      <th>label</th>\n",
       "      <th>pixel0</th>\n",
       "      <th>pixel1</th>\n",
       "      <th>pixel2</th>\n",
       "      <th>pixel3</th>\n",
       "      <th>pixel4</th>\n",
       "      <th>pixel5</th>\n",
       "      <th>pixel6</th>\n",
       "      <th>pixel7</th>\n",
       "      <th>pixel8</th>\n",
       "      <th>...</th>\n",
       "      <th>pixel774</th>\n",
       "      <th>pixel775</th>\n",
       "      <th>pixel776</th>\n",
       "      <th>pixel777</th>\n",
       "      <th>pixel778</th>\n",
       "      <th>pixel779</th>\n",
       "      <th>pixel780</th>\n",
       "      <th>pixel781</th>\n",
       "      <th>pixel782</th>\n",
       "      <th>pixel783</th>\n",
       "    </tr>\n",
       "  </thead>\n",
       "  <tbody>\n",
       "    <tr>\n",
       "      <td>0</td>\n",
       "      <td>0</td>\n",
       "      <td>0</td>\n",
       "      <td>0</td>\n",
       "      <td>0</td>\n",
       "      <td>0</td>\n",
       "      <td>0</td>\n",
       "      <td>0</td>\n",
       "      <td>0</td>\n",
       "      <td>0</td>\n",
       "      <td>0</td>\n",
       "      <td>...</td>\n",
       "      <td>0</td>\n",
       "      <td>0</td>\n",
       "      <td>0</td>\n",
       "      <td>0</td>\n",
       "      <td>0</td>\n",
       "      <td>0</td>\n",
       "      <td>0</td>\n",
       "      <td>0</td>\n",
       "      <td>0</td>\n",
       "      <td>0</td>\n",
       "    </tr>\n",
       "    <tr>\n",
       "      <td>1</td>\n",
       "      <td>1</td>\n",
       "      <td>0</td>\n",
       "      <td>0</td>\n",
       "      <td>0</td>\n",
       "      <td>0</td>\n",
       "      <td>0</td>\n",
       "      <td>0</td>\n",
       "      <td>0</td>\n",
       "      <td>0</td>\n",
       "      <td>0</td>\n",
       "      <td>...</td>\n",
       "      <td>0</td>\n",
       "      <td>0</td>\n",
       "      <td>0</td>\n",
       "      <td>0</td>\n",
       "      <td>0</td>\n",
       "      <td>0</td>\n",
       "      <td>0</td>\n",
       "      <td>0</td>\n",
       "      <td>0</td>\n",
       "      <td>0</td>\n",
       "    </tr>\n",
       "    <tr>\n",
       "      <td>2</td>\n",
       "      <td>2</td>\n",
       "      <td>0</td>\n",
       "      <td>0</td>\n",
       "      <td>0</td>\n",
       "      <td>0</td>\n",
       "      <td>0</td>\n",
       "      <td>0</td>\n",
       "      <td>0</td>\n",
       "      <td>0</td>\n",
       "      <td>0</td>\n",
       "      <td>...</td>\n",
       "      <td>0</td>\n",
       "      <td>0</td>\n",
       "      <td>0</td>\n",
       "      <td>0</td>\n",
       "      <td>0</td>\n",
       "      <td>0</td>\n",
       "      <td>0</td>\n",
       "      <td>0</td>\n",
       "      <td>0</td>\n",
       "      <td>0</td>\n",
       "    </tr>\n",
       "    <tr>\n",
       "      <td>3</td>\n",
       "      <td>3</td>\n",
       "      <td>0</td>\n",
       "      <td>0</td>\n",
       "      <td>0</td>\n",
       "      <td>0</td>\n",
       "      <td>0</td>\n",
       "      <td>0</td>\n",
       "      <td>0</td>\n",
       "      <td>0</td>\n",
       "      <td>0</td>\n",
       "      <td>...</td>\n",
       "      <td>0</td>\n",
       "      <td>0</td>\n",
       "      <td>0</td>\n",
       "      <td>0</td>\n",
       "      <td>0</td>\n",
       "      <td>0</td>\n",
       "      <td>0</td>\n",
       "      <td>0</td>\n",
       "      <td>0</td>\n",
       "      <td>0</td>\n",
       "    </tr>\n",
       "    <tr>\n",
       "      <td>4</td>\n",
       "      <td>4</td>\n",
       "      <td>0</td>\n",
       "      <td>0</td>\n",
       "      <td>0</td>\n",
       "      <td>0</td>\n",
       "      <td>0</td>\n",
       "      <td>0</td>\n",
       "      <td>0</td>\n",
       "      <td>0</td>\n",
       "      <td>0</td>\n",
       "      <td>...</td>\n",
       "      <td>0</td>\n",
       "      <td>0</td>\n",
       "      <td>0</td>\n",
       "      <td>0</td>\n",
       "      <td>0</td>\n",
       "      <td>0</td>\n",
       "      <td>0</td>\n",
       "      <td>0</td>\n",
       "      <td>0</td>\n",
       "      <td>0</td>\n",
       "    </tr>\n",
       "  </tbody>\n",
       "</table>\n",
       "<p>5 rows × 785 columns</p>\n",
       "</div>"
      ],
      "text/plain": [
       "   label  pixel0  pixel1  pixel2  pixel3  pixel4  pixel5  pixel6  pixel7  \\\n",
       "0      0       0       0       0       0       0       0       0       0   \n",
       "1      1       0       0       0       0       0       0       0       0   \n",
       "2      2       0       0       0       0       0       0       0       0   \n",
       "3      3       0       0       0       0       0       0       0       0   \n",
       "4      4       0       0       0       0       0       0       0       0   \n",
       "\n",
       "   pixel8  ...  pixel774  pixel775  pixel776  pixel777  pixel778  pixel779  \\\n",
       "0       0  ...         0         0         0         0         0         0   \n",
       "1       0  ...         0         0         0         0         0         0   \n",
       "2       0  ...         0         0         0         0         0         0   \n",
       "3       0  ...         0         0         0         0         0         0   \n",
       "4       0  ...         0         0         0         0         0         0   \n",
       "\n",
       "   pixel780  pixel781  pixel782  pixel783  \n",
       "0         0         0         0         0  \n",
       "1         0         0         0         0  \n",
       "2         0         0         0         0  \n",
       "3         0         0         0         0  \n",
       "4         0         0         0         0  \n",
       "\n",
       "[5 rows x 785 columns]"
      ]
     },
     "execution_count": 10,
     "metadata": {},
     "output_type": "execute_result"
    }
   ],
   "source": [
    "# Training data has 785 colums, in which the first column corresponds to the label and the other 784 column corresponds \n",
    "# to the pixel values of 28 X 28 dimension data.\n",
    "train.head()"
   ]
  },
  {
   "cell_type": "markdown",
   "metadata": {},
   "source": [
    "We slice the dataframes to define the features and the labels"
   ]
  },
  {
   "cell_type": "code",
   "execution_count": 11,
   "metadata": {},
   "outputs": [
    {
     "data": {
      "text/plain": [
       "array([0, 1, 2, 3, 4, 5, 6, 7])"
      ]
     },
     "execution_count": 11,
     "metadata": {},
     "output_type": "execute_result"
    }
   ],
   "source": [
    "# First column is the label 'Y' and rest of 784 columns are the pixel values.\n",
    "Y=train.iloc[:,0].values \n",
    "Y[:8]"
   ]
  },
  {
   "cell_type": "code",
   "execution_count": 12,
   "metadata": {},
   "outputs": [
    {
     "data": {
      "text/plain": [
       "array([[0, 0, 0, ..., 0, 0, 0],\n",
       "       [0, 0, 0, ..., 0, 0, 0],\n",
       "       [0, 0, 0, ..., 0, 0, 0],\n",
       "       ...,\n",
       "       [0, 0, 0, ..., 0, 0, 0],\n",
       "       [0, 0, 0, ..., 0, 0, 0],\n",
       "       [0, 0, 0, ..., 0, 0, 0]])"
      ]
     },
     "execution_count": 12,
     "metadata": {},
     "output_type": "execute_result"
    }
   ],
   "source": [
    "# First column is the label 'Y' and rest of 784 columns are the pixel values. \n",
    "X=train.iloc[:,1:].values \n",
    "X[:7]"
   ]
  },
  {
   "cell_type": "code",
   "execution_count": 13,
   "metadata": {},
   "outputs": [
    {
     "name": "stdout",
     "output_type": "stream",
     "text": [
      "(60000, 10)\n"
     ]
    }
   ],
   "source": [
    "# Convert the data points to categorical(one hot encoded) form.\n",
    "Y = keras.utils.to_categorical(Y, 10) \n",
    "print(Y.shape)"
   ]
  },
  {
   "cell_type": "code",
   "execution_count": 14,
   "metadata": {},
   "outputs": [
    {
     "data": {
      "text/plain": [
       "(60000, 784)"
      ]
     },
     "execution_count": 14,
     "metadata": {},
     "output_type": "execute_result"
    }
   ],
   "source": [
    "X.shape"
   ]
  },
  {
   "cell_type": "code",
   "execution_count": 15,
   "metadata": {},
   "outputs": [
    {
     "name": "stdout",
     "output_type": "stream",
     "text": [
      "(60000, 28, 28, 1)\n"
     ]
    }
   ],
   "source": [
    "# Reshape the data to make it comply with the keras API.\n",
    "X = X.reshape(60000, 28, 28,1) \n",
    "print(X.shape)"
   ]
  },
  {
   "cell_type": "markdown",
   "metadata": {},
   "source": [
    "We split the data into training and validation set."
   ]
  },
  {
   "cell_type": "code",
   "execution_count": 16,
   "metadata": {},
   "outputs": [],
   "source": [
    "train_X, valid_X, train_y, valid_y = train_test_split(X, Y, test_size = 0.08) "
   ]
  },
  {
   "cell_type": "code",
   "execution_count": 17,
   "metadata": {},
   "outputs": [],
   "source": [
    "# Data Augmentation is used to artificially increase the size of the dataset by rotating, zooming translating the pixels\n",
    "# in the image. Care has to be taken that the data augmentation is not conducted at a very huge amount as it can completely\n",
    "# change the features of the image.\n",
    "train_datagen = ImageDataGenerator(rescale = 1./255., zoom_range = 0.22, shear_range = 0.09,\n",
    "width_shift_range = 0.23, height_shift_range = 0.23, rotation_range = 10, horizontal_flip = False)"
   ]
  },
  {
   "cell_type": "code",
   "execution_count": 18,
   "metadata": {},
   "outputs": [],
   "source": [
    "# In validation set no data augmentation is performed, only the pixel values are converted from 0 to 255 to 0 to 1  \n",
    "valid_datagen = ImageDataGenerator(rescale=1./255) "
   ]
  },
  {
   "cell_type": "code",
   "execution_count": 19,
   "metadata": {},
   "outputs": [],
   "source": [
    "# This is the function for learning rate decay. After every iteration the learning rate is reduced by a small amount.\n",
    "# This helps the algorithm converge faster to the global minimum.\n",
    "def l_decay(epoch):\n",
    "    return l_rate * 0.99 ** epoch"
   ]
  },
  {
   "cell_type": "code",
   "execution_count": 20,
   "metadata": {},
   "outputs": [
    {
     "name": "stdout",
     "output_type": "stream",
     "text": [
      "Model: \"sequential\"\n",
      "_________________________________________________________________\n",
      "Layer (type)                 Output Shape              Param #   \n",
      "=================================================================\n",
      "conv2d (Conv2D)              (None, 28, 28, 64)        640       \n",
      "_________________________________________________________________\n",
      "batch_normalization (BatchNo (None, 28, 28, 64)        256       \n",
      "_________________________________________________________________\n",
      "conv2d_1 (Conv2D)            (None, 28, 28, 64)        36928     \n",
      "_________________________________________________________________\n",
      "batch_normalization_1 (Batch (None, 28, 28, 64)        256       \n",
      "_________________________________________________________________\n",
      "max_pooling2d (MaxPooling2D) (None, 14, 14, 64)        0         \n",
      "_________________________________________________________________\n",
      "dropout (Dropout)            (None, 14, 14, 64)        0         \n",
      "_________________________________________________________________\n",
      "conv2d_2 (Conv2D)            (None, 14, 14, 128)       73856     \n",
      "_________________________________________________________________\n",
      "batch_normalization_2 (Batch (None, 14, 14, 128)       512       \n",
      "_________________________________________________________________\n",
      "conv2d_3 (Conv2D)            (None, 14, 14, 128)       147584    \n",
      "_________________________________________________________________\n",
      "batch_normalization_3 (Batch (None, 14, 14, 128)       512       \n",
      "_________________________________________________________________\n",
      "conv2d_4 (Conv2D)            (None, 14, 14, 128)       409728    \n",
      "_________________________________________________________________\n",
      "batch_normalization_4 (Batch (None, 14, 14, 128)       512       \n",
      "_________________________________________________________________\n",
      "max_pooling2d_1 (MaxPooling2 (None, 7, 7, 128)         0         \n",
      "_________________________________________________________________\n",
      "dropout_1 (Dropout)          (None, 7, 7, 128)         0         \n",
      "_________________________________________________________________\n",
      "conv2d_5 (Conv2D)            (None, 7, 7, 256)         295168    \n",
      "_________________________________________________________________\n",
      "batch_normalization_5 (Batch (None, 7, 7, 256)         1024      \n",
      "_________________________________________________________________\n",
      "conv2d_6 (Conv2D)            (None, 7, 7, 256)         590080    \n",
      "_________________________________________________________________\n",
      "batch_normalization_6 (Batch (None, 7, 7, 256)         1024      \n",
      "_________________________________________________________________\n",
      "max_pooling2d_2 (MaxPooling2 (None, 3, 3, 256)         0         \n",
      "_________________________________________________________________\n",
      "dropout_2 (Dropout)          (None, 3, 3, 256)         0         \n",
      "_________________________________________________________________\n",
      "flatten (Flatten)            (None, 2304)              0         \n",
      "_________________________________________________________________\n",
      "dense (Dense)                (None, 256)               590080    \n",
      "_________________________________________________________________\n",
      "re_lu (ReLU)                 (None, 256)               0         \n",
      "_________________________________________________________________\n",
      "dense_1 (Dense)              (None, 256)               65792     \n",
      "_________________________________________________________________\n",
      "re_lu_1 (ReLU)               (None, 256)               0         \n",
      "_________________________________________________________________\n",
      "batch_normalization_7 (Batch (None, 256)               1024      \n",
      "_________________________________________________________________\n",
      "dense_2 (Dense)              (None, 10)                2570      \n",
      "=================================================================\n",
      "Total params: 2,217,546\n",
      "Trainable params: 2,214,986\n",
      "Non-trainable params: 2,560\n",
      "_________________________________________________________________\n"
     ]
    }
   ],
   "source": [
    "# A Sequential model is built.\n",
    "# 6 2d-convolution layers are used. Each has 3 X 3 Filters. \n",
    "# The number of depth channels for each Convolution layer are 64, 64, 128, 128, 256, 256.\n",
    "# The number of depth channels are increased because the later layers have to learn more complex features.\n",
    "# Batch Normalization is used because it makes the training of the CNN easier. Maxpooling reduces the number of channels which \n",
    "# reduces the complexity of the Neural Network as the less important features are removed which also improves the accuracy.\n",
    "# Dropout forces the layer to learn the deatures using fewer number of neurons which helps deal with overfitting.\n",
    "# Momentum makes the optimization rate faster.\n",
    "\n",
    "model = tf.keras.models.Sequential([\n",
    "    tf.keras.layers.Conv2D(64, (3,3), padding='same', activation='relu', input_shape=(28, 28, 1)),\n",
    "    tf.keras.layers.BatchNormalization(epsilon=1e-5, momentum=0.5),\n",
    "    \n",
    "    tf.keras.layers.Conv2D(64,  (3,3), activation='relu', padding='same'),\n",
    "    tf.keras.layers.BatchNormalization(),\n",
    "\n",
    "\n",
    "    tf.keras.layers.MaxPooling2D(2, 2),\n",
    "    tf.keras.layers.Dropout(0.2),\n",
    "    \n",
    "    tf.keras.layers.Conv2D(128, (3,3), activation='relu', padding='same'),\n",
    "    tf.keras.layers.BatchNormalization(),\n",
    "\n",
    "    tf.keras.layers.Conv2D(128, (3,3),activation='relu', padding='same'),\n",
    "    tf.keras.layers.BatchNormalization(),\n",
    "    \n",
    "    tf.keras.layers.Conv2D(128,  (5,5), activation='relu', padding='same'),\n",
    "    tf.keras.layers.BatchNormalization(),\n",
    "\n",
    "    \n",
    "    tf.keras.layers.MaxPooling2D(2,2),\n",
    "    tf.keras.layers.Dropout(0.2),    \n",
    "    \n",
    "    tf.keras.layers.Conv2D(256, (3,3),activation='relu', padding='same'),\n",
    "    tf.keras.layers.BatchNormalization(),\n",
    "    \n",
    "    tf.keras.layers.Conv2D(256, (3,3),activation='relu', padding='same'),\n",
    "    tf.keras.layers.BatchNormalization(),\n",
    "\n",
    "\n",
    "    tf.keras.layers.MaxPooling2D(2,2),\n",
    "    tf.keras.layers.Dropout(0.2),\n",
    "    \n",
    "    \n",
    "    tf.keras.layers.Flatten(),\n",
    "    tf.keras.layers.Dense(256),\n",
    "    tf.keras.layers.ReLU(),\n",
    "    tf.keras.layers.Dense(256),\n",
    "    tf.keras.layers.ReLU(),\n",
    " \n",
    "    tf.keras.layers.BatchNormalization(),\n",
    "    tf.keras.layers.Dense(10, activation='softmax')\n",
    "])\n",
    "model.summary()"
   ]
  },
  {
   "cell_type": "code",
   "execution_count": 21,
   "metadata": {},
   "outputs": [],
   "source": [
    "b_size = 1024\n",
    "ep = 30"
   ]
  },
  {
   "cell_type": "code",
   "execution_count": 22,
   "metadata": {},
   "outputs": [],
   "source": [
    "l_rate=2e-3\n",
    "input_shape = (28, 28, 1)\n",
    "early_stopping = EarlyStopping(monitor='val_loss',patience=5, verbose=1)"
   ]
  },
  {
   "cell_type": "code",
   "execution_count": 23,
   "metadata": {},
   "outputs": [],
   "source": [
    "model.compile(loss=\"categorical_crossentropy\",\n",
    "              optimizer=RMSprop(lr=l_rate),\n",
    "              metrics=['accuracy'])"
   ]
  },
  {
   "cell_type": "code",
   "execution_count": 24,
   "metadata": {},
   "outputs": [
    {
     "name": "stdout",
     "output_type": "stream",
     "text": [
      "Epoch 1/30\n",
      "54/54 - 21s - loss: 0.7676 - acc: 0.7455 - val_loss: 2.8672 - val_acc: 0.6798\n",
      "Epoch 2/30\n",
      "54/54 - 16s - loss: 0.1999 - acc: 0.9386 - val_loss: 4.4466 - val_acc: 0.7069\n",
      "Epoch 3/30\n",
      "54/54 - 16s - loss: 0.0882 - acc: 0.9730 - val_loss: 0.4790 - val_acc: 0.9160\n",
      "Epoch 4/30\n",
      "54/54 - 16s - loss: 0.0625 - acc: 0.9812 - val_loss: 0.0659 - val_acc: 0.9860\n",
      "Epoch 5/30\n",
      "54/54 - 16s - loss: 0.0525 - acc: 0.9834 - val_loss: 0.0474 - val_acc: 0.9881\n",
      "Epoch 6/30\n",
      "54/54 - 16s - loss: 0.0438 - acc: 0.9862 - val_loss: 0.0276 - val_acc: 0.9942\n",
      "Epoch 7/30\n",
      "54/54 - 16s - loss: 0.0363 - acc: 0.9884 - val_loss: 0.4671 - val_acc: 0.9173\n",
      "Epoch 8/30\n",
      "54/54 - 16s - loss: 0.0348 - acc: 0.9893 - val_loss: 0.0160 - val_acc: 0.9933\n",
      "Epoch 9/30\n",
      "54/54 - 16s - loss: 0.0313 - acc: 0.9903 - val_loss: 0.0201 - val_acc: 0.9960\n",
      "Epoch 10/30\n",
      "54/54 - 16s - loss: 0.0284 - acc: 0.9914 - val_loss: 0.0169 - val_acc: 0.9956\n",
      "Epoch 11/30\n",
      "54/54 - 16s - loss: 0.0266 - acc: 0.9916 - val_loss: 0.0151 - val_acc: 0.9969\n",
      "Epoch 12/30\n",
      "54/54 - 16s - loss: 0.0259 - acc: 0.9915 - val_loss: 0.0125 - val_acc: 0.9956\n",
      "Epoch 13/30\n",
      "54/54 - 16s - loss: 0.0237 - acc: 0.9924 - val_loss: 0.0232 - val_acc: 0.9931\n",
      "Epoch 14/30\n",
      "54/54 - 16s - loss: 0.0230 - acc: 0.9928 - val_loss: 0.0121 - val_acc: 0.9971\n",
      "Epoch 15/30\n",
      "54/54 - 16s - loss: 0.0216 - acc: 0.9928 - val_loss: 0.0204 - val_acc: 0.9944\n",
      "Epoch 16/30\n",
      "54/54 - 16s - loss: 0.0208 - acc: 0.9935 - val_loss: 0.0082 - val_acc: 0.9971\n",
      "Epoch 17/30\n",
      "54/54 - 16s - loss: 0.0213 - acc: 0.9932 - val_loss: 0.0155 - val_acc: 0.9960\n",
      "Epoch 18/30\n",
      "54/54 - 16s - loss: 0.0192 - acc: 0.9940 - val_loss: 0.0187 - val_acc: 0.9956\n",
      "Epoch 19/30\n",
      "54/54 - 16s - loss: 0.0202 - acc: 0.9935 - val_loss: 0.0102 - val_acc: 0.9969\n",
      "Epoch 20/30\n",
      "54/54 - 16s - loss: 0.0172 - acc: 0.9945 - val_loss: 0.0160 - val_acc: 0.9967\n",
      "Epoch 21/30\n",
      "54/54 - 16s - loss: 0.0185 - acc: 0.9940 - val_loss: 0.0078 - val_acc: 0.9983\n",
      "Epoch 22/30\n",
      "54/54 - 16s - loss: 0.0186 - acc: 0.9941 - val_loss: 0.0179 - val_acc: 0.9944\n",
      "Epoch 23/30\n",
      "54/54 - 16s - loss: 0.0171 - acc: 0.9948 - val_loss: 0.0096 - val_acc: 0.9983\n",
      "Epoch 24/30\n",
      "54/54 - 16s - loss: 0.0178 - acc: 0.9941 - val_loss: 0.0930 - val_acc: 0.9750\n",
      "Epoch 25/30\n",
      "54/54 - 16s - loss: 0.0146 - acc: 0.9951 - val_loss: 0.0074 - val_acc: 0.9973\n",
      "Epoch 26/30\n",
      "54/54 - 16s - loss: 0.0161 - acc: 0.9948 - val_loss: 0.0095 - val_acc: 0.9967\n",
      "Epoch 27/30\n",
      "54/54 - 16s - loss: 0.0148 - acc: 0.9953 - val_loss: 0.0120 - val_acc: 0.9971\n",
      "Epoch 28/30\n",
      "54/54 - 16s - loss: 0.0147 - acc: 0.9955 - val_loss: 0.0136 - val_acc: 0.9975\n",
      "Epoch 29/30\n",
      "54/54 - 16s - loss: 0.0142 - acc: 0.9955 - val_loss: 0.0062 - val_acc: 0.9977\n",
      "Epoch 30/30\n",
      "54/54 - 16s - loss: 0.0145 - acc: 0.9953 - val_loss: 0.0098 - val_acc: 0.9967\n"
     ]
    }
   ],
   "source": [
    "history = model.fit_generator(\n",
    "      train_datagen.flow(train_X,train_y, batch_size=b_size),\n",
    "      epochs=ep,\n",
    "      callbacks=[LearningRateScheduler(l_decay), early_stopping],\n",
    "      validation_data=valid_datagen.flow(valid_X,valid_y), \n",
    "      verbose=2)"
   ]
  },
  {
   "cell_type": "code",
   "execution_count": 25,
   "metadata": {},
   "outputs": [
    {
     "data": {
      "text/plain": [
       "0.90009765625"
      ]
     },
     "execution_count": 25,
     "metadata": {},
     "output_type": "execute_result"
    }
   ],
   "source": [
    "dig_pred=model.predict_classes(dig_x/255)\n",
    "metrics.accuracy_score(dig_pred, dig_y)"
   ]
  },
  {
   "cell_type": "code",
   "execution_count": 27,
   "metadata": {},
   "outputs": [],
   "source": [
    "tl = history.history['loss']\n",
    "vl = history.history['val_loss']\n",
    "ta = history.history['acc']\n",
    "va = history.history['val_acc']\n",
    "\n",
    "\n",
    "eps = range(len(ta))"
   ]
  },
  {
   "cell_type": "code",
   "execution_count": 28,
   "metadata": {},
   "outputs": [
    {
     "data": {
      "image/png": "[encoded data removed]",
      "text/plain": [
       "<Figure size 432x288 with 1 Axes>"
      ]
     },
     "metadata": {
      "needs_background": "light"
     },
     "output_type": "display_data"
    }
   ],
   "source": [
    "plt.figure()\n",
    "plt.plot(eps, tl, 'c', label='Loss during Training')\n",
    "plt.plot(eps, vl, 'y', label='Loss during Validation')\n",
    "\n",
    "plt.title('Convolutional Neural Network Loss')\n",
    "\n",
    "plt.legend()\n",
    "plt.show()"
   ]
  },
  {
   "cell_type": "code",
   "execution_count": 29,
   "metadata": {},
   "outputs": [
    {
     "data": {
      "image/png": "[encoded data removed]",
      "text/plain": [
       "<Figure size 432x288 with 1 Axes>"
      ]
     },
     "metadata": {
      "needs_background": "light"
     },
     "output_type": "display_data"
    }
   ],
   "source": [
    "plt.title('Convolutional Neural Network Accuracy')\n",
    "plt.plot(eps, ta, 'c', label='Accuracy during Training')\n",
    "plt.plot(eps, va, 'y', label='Accuracy during Validation')\n",
    "\n",
    "plt.legend()\n",
    "\n",
    "plt.show()"
   ]
  }
 ],
 "metadata": {
  "kernelspec": {
   "display_name": "Python 3",
   "language": "python",
   "name": "python3"
  },
  "language_info": {
   "codemirror_mode": {
    "name": "ipython",
    "version": 3
   },
   "file_extension": ".py",
   "mimetype": "text/x-python",
   "name": "python",
   "nbconvert_exporter": "python",
   "pygments_lexer": "ipython3",
   "version": "3.7.3"
  }
 },
 "nbformat": 4,
 "nbformat_minor": 1
}
